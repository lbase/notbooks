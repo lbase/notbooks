{
 "cells": [
  {
   "cell_type": "code",
   "execution_count": null,
   "metadata": {},
   "outputs": [],
   "source": [
    "import pandas as pd\n",
    "import sqlite3\n",
    "    "
   ]
  },
  {
   "cell_type": "markdown",
   "metadata": {},
   "source": [
    "## New branch\n",
    "New branch called gpxwork for the gpx parsing...\n",
    "1-27-19"
   ]
  },
  {
   "cell_type": "code",
   "execution_count": null,
   "metadata": {},
   "outputs": [],
   "source": [
    "import sqlite3\n",
    "import pandas as pd\n",
    "# pd.set_option('display.width',500) \n",
    "# pd.set_option('display.max_columns', 90)\n",
    "\n",
    "def gpxdata(filename) :\n",
    "# Create a SQL connection to our SQLite database\n",
    "    con = sqlite3.connect(filename)\n",
    "    \n",
    "    sqlquery = (\"SELECT Code,Name,PlacedBy,Archived,Bearing,CacheId,CacheType,Changed,Container,Difficulty,LastFoundDate,LastGPXDate,LastLog,LastUserDate,Latitude,Lock,LongHtm,Longitude,NumberOfLogs,OwnerId,OwnerName,PlacedDate,ShortHtm,SmartName,SmartOverride,Source,State,TempDisabled,Terrain,Created,FavPoints FROM Caches\")\n",
    "    \n",
    "    df = pd.read_sql_query(sqlquery, con)                     \n",
    "    con.close()\n",
    "    return df\n"
   ]
  },
  {
   "cell_type": "code",
   "execution_count": null,
   "metadata": {},
   "outputs": [],
   "source": [
    "mydf = gpxdata('fla18.db3')"
   ]
  },
  {
   "cell_type": "code",
   "execution_count": null,
   "metadata": {},
   "outputs": [],
   "source": [
    "mydf.loc[mydf['PlacedBy'] == 'IceCreamMan']"
   ]
  },
  {
   "cell_type": "code",
   "execution_count": null,
   "metadata": {},
   "outputs": [],
   "source": [
    "mydf.head(12)"
   ]
  },
  {
   "cell_type": "code",
   "execution_count": null,
   "metadata": {},
   "outputs": [],
   "source": [
    "import json\n",
    "import pandas\n",
    "import xmltodict\n",
    "\n",
    "def gpxdata(filename):\n",
    "\n",
    "    # Make that unweidly XML doc look like a native Dictionary!\n",
    "    result = xmltodict.parse(filename)\n",
    "\n",
    "# Next, convert the nested OrderedDict to a real dict, which isn't strictly necessary, but helps you\n",
    "#   visualize what the structure of the data looks like\n",
    "    normal_dict = json.loads(json.dumps(result.get('gpx', {}).get(wpt'Latitude', {}).get(wpt'Longitude', [])))\n",
    "\n",
    "# Now, make that dictionary into a dataframe\n",
    "    df = pandas.DataFrame.from_dict(normal_dict)\n",
    "    return df"
   ]
  },
  {
   "cell_type": "code",
   "execution_count": null,
   "metadata": {},
   "outputs": [],
   "source": [
    "\n",
    "import pandas as pd\n",
    "import xml.etree.ElementTree as ET\n",
    "\n",
    "def gpxdata(filename):\n",
    "    etree = ET.parse(filename) #create an ElementTree object \n",
    "    root = etree.getroot()\n",
    "    #print(root[0][0].text)\n",
    "    lst = root.getchildren()\n",
    "    print('wpt count', len(lst))\n",
    "    print(lst)\n",
    "    print(etree)"
   ]
  },
  {
   "cell_type": "code",
   "execution_count": null,
   "metadata": {},
   "outputs": [],
   "source": [
    "# is this what we want?\n",
    "import pandas as pd\n",
    "import xml.etree.ElementTree as ET\n",
    "import os\n",
    "\n",
    "def gpxdata(filename):\n",
    "    etree = ET.parse(filename) #create an ElementTree object \n",
    "    root = etree.getroot()\n",
    "    #for name in root.iter('/gpx/name') :\n",
    "    #for name in root.iter(root.find('gpx/wpt/ns0/name')) :\n",
    "    for child in root:\n",
    "        for children in child :\n",
    "            print(children.tag, children.text)"
   ]
  },
  {
   "cell_type": "code",
   "execution_count": null,
   "metadata": {},
   "outputs": [],
   "source": [
    "import pandas as pd\n",
    "from xml.dom import minidom\n",
    "\n",
    "def gpxdata(filename) :\n",
    "    gpx_file = minidom.parse(filename)\n",
    "    gpxt = gpx_file.getElementsByTagName('wpt')\n",
    "    print(gpxt)\n",
    "    \n",
    "    \n",
    "    "
   ]
  },
  {
   "cell_type": "code",
   "execution_count": null,
   "metadata": {},
   "outputs": [],
   "source": [
    "gpxdata('ColtCreekcache.gpx')"
   ]
  },
  {
   "cell_type": "code",
   "execution_count": null,
   "metadata": {},
   "outputs": [],
   "source": [
    "gpxdata('ColtCreekcache.gpx')"
   ]
  },
  {
   "cell_type": "code",
   "execution_count": null,
   "metadata": {},
   "outputs": [],
   "source": [
    "gpxdata('ColtCreekcache.gpx')"
   ]
  },
  {
   "cell_type": "code",
   "execution_count": null,
   "metadata": {},
   "outputs": [],
   "source": [
    "gpxdata('ColtCreekcache.gpx')"
   ]
  },
  {
   "cell_type": "code",
   "execution_count": null,
   "metadata": {},
   "outputs": [],
   "source": [
    "from xml.etree import ElementTree\n",
    "tree = ElementTree.parse(\"GC81Z6G.gpx\")\n",
    "item = tree.getroot()[9][7].text\n",
    "\n",
    "print(item)"
   ]
  },
  {
   "cell_type": "code",
   "execution_count": null,
   "metadata": {},
   "outputs": [],
   "source": [
    "from xml.etree import ElementTree\n",
    "tree = ElementTree.parse(\"GC81Z6G.gpx\")\n",
    "children = root.getchildren()\n",
    "for child in children:\n",
    "    ElementTree.dump(child)"
   ]
  },
  {
   "cell_type": "code",
   "execution_count": null,
   "metadata": {},
   "outputs": [],
   "source": [
    "from xml.etree import ElementTree\n",
    "tree = ElementTree.parse(\"GC81Z6G.gpx\")\n",
    "item = tree.getroot()[9][7][9].text\n",
    "\n",
    "print(item)\n"
   ]
  },
  {
   "cell_type": "code",
   "execution_count": null,
   "metadata": {},
   "outputs": [],
   "source": [
    "from xml.etree import ElementTree\n",
    "NSMAP = {\"gpx\": \"http://www.topografix.com/GPX/1/1\"}\n",
    "root = ElementTree.parse(\"ColtCreekcache.gpx\").getroot()\n",
    "\n",
    "print(root.tag)\n",
    "print(root.get(\"wpt\"))\n",
    "# name = root.find('{http://www.topografix.com/GPX/1/1}wpt')\n",
    "name = root.find('wpt' ,namespaces=NSMAP)\n",
    "ElementTree.dump(name)"
   ]
  },
  {
   "cell_type": "code",
   "execution_count": null,
   "metadata": {},
   "outputs": [],
   "source": [
    "import xml.etree.ElementTree as ET\n",
    "import pandas as pd\n",
    "root = ET.parse(\"GC81Z6G.gpx\").getroot()\n",
    "\n",
    "tree = ET.parse(\"GC81Z6G.gpx\")\n",
    "root = tree.getroot()\n",
    "\n",
    "item = tree.getroot()[9]\n",
    "\n",
    "print(item)\n"
   ]
  },
  {
   "cell_type": "code",
   "execution_count": null,
   "metadata": {},
   "outputs": [],
   "source": [
    "from lxml import etree, objectify\n",
    "\n",
    "NSMAP = {\"gpx\": \"http://www.topografix.com/GPX/1/0\"}\n",
    "NSGSMAP = {\"wpt\": \"http://www.groundspeak.com/cache/1/0/1\"}\n",
    "\n",
    "tree = etree.parse(\"ColtCreekcache.gpx\")\n",
    "root = tree.getroot()\n",
    "item = tree.find(\"{http://www.groundspeak.com/cache/1/0/1}name\")\n",
    "#for elem in tree.findall(\"gpx:wpt\", namespaces=NSMAP):\n",
    "    #print(elem.findtext('desc'))\n",
    "child = root\n",
    "print(root)\n",
    "print(item)"
   ]
  },
  {
   "cell_type": "code",
   "execution_count": null,
   "metadata": {},
   "outputs": [],
   "source": [
    "from lxml import etree\n",
    "root = etree.parse(\"GC81Z6G.gpx\").getroot()\n",
    "\n",
    "#etree.dump(root)\n",
    "item = root.find(\"gpx:wpt:groundspeak:name\")\n",
    "etree.dump(item)\n",
    "print(root.tag)"
   ]
  },
  {
   "cell_type": "code",
   "execution_count": null,
   "metadata": {},
   "outputs": [],
   "source": [
    "#working - now how to get data\n",
    "from lxml import etree\n",
    "for event, element in etree.iterparse(\"GC81Z6G.gpx\"):\n",
    "    #print(\"%s, %4s, %s\" % (event, element.tag, element.text))\n",
    "    #print(\"%4s, %s\" % (element.tag, element.text))\n",
    "    print(element.tag, element.text)\n",
    "    "
   ]
  },
  {
   "cell_type": "code",
   "execution_count": null,
   "metadata": {},
   "outputs": [],
   "source": [
    "#working /editing- now how to get data\n",
    "from lxml import etree\n",
    "ns2 = \"{http://www.groundspeak.com/cache/1/0/1}\"\n",
    "tree = etree.parse(\"GC81Z6G.gpx\")\n",
    "r = tree.find('{http://www.groundspeak.com/cache/1/0/1}name')\n",
    "print(r)\n",
    "\n",
    "for event, element in etree.iterparse(\"GC81Z6G.gpx\"):\n",
    "    #print(\"%s, %4s, %s\" % (event, element.tag, element.text))\n",
    "    #print(\"%4s, %s\" % (element.tag, element.text))\n",
    "    print(element.tag, element.text)\n",
    "    "
   ]
  },
  {
   "cell_type": "code",
   "execution_count": null,
   "metadata": {},
   "outputs": [],
   "source": [
    "from lxml import etree as ET\n",
    "tree = ET.parse(\"ColtCreekcache.gpx\")\n",
    "\n",
    "for elem in tree.getiterator():\n",
    "    print (elem.tag, elem.attrib)"
   ]
  }
 ],
 "metadata": {
  "kernelspec": {
   "display_name": "Python 3",
   "language": "python",
   "name": "python3"
  },
  "language_info": {
   "codemirror_mode": {
    "name": "ipython",
    "version": 3
   },
   "file_extension": ".py",
   "mimetype": "text/x-python",
   "name": "python",
   "nbconvert_exporter": "python",
   "pygments_lexer": "ipython3",
   "version": "3.6.7"
  }
 },
 "nbformat": 4,
 "nbformat_minor": 2
}
