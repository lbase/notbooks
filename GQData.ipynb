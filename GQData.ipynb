{
 "cells": [
  {
   "cell_type": "markdown",
   "metadata": {},
   "source": [
    "# Geoquick Data Export\n",
    "\n",
    "Reviewers can store text snippets in Geoquick for use in logs so as to avoid some repitiion.\n",
    "Geoquick stores data in a jet database. File is usually called Geoquick.dat \n",
    "There is a [program for Linux](https://github.com/brianb/mdbtools) that will extract data from this file.\n",
    "\n",
    "Here is a typical command:\n",
    "\n",
    "```\n",
    "mdb-export GeoQuick.dat GeoQuick_Tb > gqmdb.csv\n",
    "```\n",
    "\n",
    "The Table GeoQuick_Tb has most fo the data in it. Not sure what the other 2 tables do.\n",
    "\n",
    "So now it's time to manipulate the data into text files for safe keeping and for use in a list to use in Sapience Treks Jave app.\n"
   ]
  },
  {
   "cell_type": "markdown",
   "metadata": {},
   "source": [
    "## sapience java app\n",
    "\n",
    "data:\n",
    "\n",
    "https://docs.google.com/spreadsheet/pub?key=0Anzx0jUraUlldGUwTUFRVXoydl9KU0Y4MUNPSUhqUFE&single=true&gid=0&output=csv\n",
    "\n",
    "thread:\n",
    "\n",
    "https://forums.geocaching.com/REV/index.php?/topic/18401-templates-reviewing-on-multiple-computers/\n",
    "\n",
    "\n",
    "\n"
   ]
  },
  {
   "cell_type": "markdown",
   "metadata": {},
   "source": [
    "import os\n",
    "import pandas as pd\n",
    "from slugify import slugify\n",
    "\n",
    "\n",
    "def export_notes(filename, savepath):\n",
    "    filext='.txt'\n",
    "    # check for file path\n",
    "    if os.path.exists(savepath) == False :\n",
    "        os.mkdir(savepath)\n",
    "    # open the file    \n",
    "    gq = open(filename, 'r')\n",
    "    # read it into pandas datafile\n",
    "    reader = pd.read_csv(gq)\n",
    "    for index, row in reader.iterrows():\n",
    "            \n",
    "            \n",
    "            fullfilename = slugify(row['Title'], separator=' ') + filext\n",
    "            newfilename=os.path.join(savepath, fullfilename)\n",
    "            revnote = open(newfilename, 'w')\n",
    "            #revnote.write(row['Text'].replace('\\\\n','\\n'))\n",
    "            revnote.write(row['Text'])\n",
    "            revnote.close  \n",
    "            "
   ]
  },
  {
   "cell_type": "code",
   "execution_count": 4,
   "metadata": {},
   "outputs": [],
   "source": [
    "export_notes('gqmdb.csv','/home/jovyan/data')"
   ]
  },
  {
   "cell_type": "markdown",
   "metadata": {},
   "source": [
    "The command above should give us a subdirectory with text files named after the title we got from csv file from a column called Titles.\n",
    "\n",
    "Now lets parse the data into catgories for use with templates.jar\n"
   ]
  },
  {
   "cell_type": "code",
   "execution_count": 5,
   "metadata": {},
   "outputs": [],
   "source": [
    "import pandas as pd\n",
    "menud = pd.DataFrame(\n",
    "                    {\n",
    "       \"Menu_Number\" : [ 1, 2, 3, 4, 5, 6, 7, 8, 9, 10, 11, 12, 13, 14, 15],\n",
    "       \"menu_name\" : ['Menu 1', 'Menu 2', 'Menu 3', 'Menu 4', 'Menu 5', 'Menu 6', 'Menu 7', 'Menu 8', 'Menu 9', 'Menu 10', 'Menu 11', 'Menu 12', 'Menu 13', 'Menu 14', 'Menu 15']\n",
    "                    }  )\n",
    "msqlfile = open('gqmdb.csv', 'r')\n",
    "notes = pd.read_csv(msqlfile)\n",
    " \n",
    "mnotes = pd.merge(notes, \n",
    "                 menud )  "
   ]
  },
  {
   "cell_type": "markdown",
   "metadata": {},
   "source": [
    "run mnotes by itself to see the new datafile\n",
    "\n",
    "Now lets give ourselves a new column to use as the first column in the templates csv file. It will combine the title text and the caegory and seperate them with a slash. \n",
    "\n"
   ]
  },
  {
   "cell_type": "code",
   "execution_count": null,
   "metadata": {},
   "outputs": [],
   "source": [
    "mnotes['category'] = mnotes['menu_name'] + \"/\" + mnotes['Title']"
   ]
  },
  {
   "cell_type": "markdown",
   "metadata": {},
   "source": [
    "Now lets write out a new csv file."
   ]
  },
  {
   "cell_type": "code",
   "execution_count": null,
   "metadata": {},
   "outputs": [],
   "source": [
    "mnotes.to_csv('gq2col.csv', columns=('category','Text'), index=False)"
   ]
  }
 ],
 "metadata": {
  "kernelspec": {
   "display_name": "Python 3",
   "language": "python",
   "name": "python3"
  },
  "language_info": {
   "codemirror_mode": {
    "name": "ipython",
    "version": 3
   },
   "file_extension": ".py",
   "mimetype": "text/x-python",
   "name": "python",
   "nbconvert_exporter": "python",
   "pygments_lexer": "ipython3",
   "version": "3.6.3"
  }
 },
 "nbformat": 4,
 "nbformat_minor": 2
}
