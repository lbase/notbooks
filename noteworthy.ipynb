{
 "cells": [
  {
   "cell_type": "markdown",
   "metadata": {},
   "source": [
    "notes for csv parsing\n",
    "===================\n",
    "\n",
    "there is a slash in some of the titles so may have to scrub that\n",
    "\n"
   ]
  },
  {
   "cell_type": "markdown",
   "metadata": {},
   "source": [
    "### Original "
   ]
  },
  {
   "cell_type": "code",
   "execution_count": null,
   "metadata": {},
   "outputs": [],
   "source": [
    "import csv\n",
    " \n",
    "def readMyFile(filename):\n",
    "    titles = []\n",
    "    textx = []\n",
    " \n",
    "    with open(filename) as csvDataFile:\n",
    "        csvReader = csv.reader(csvDataFile)\n",
    "        for row in csvReader:\n",
    "            titles.append(row[0])\n",
    "            textx.append(row[1])\n",
    " \n",
    "    # return titles, textxen(titles)\n",
    "    for x in range(x):\n",
    "        path = '/home/rfile/megrev/'\n",
    "        filext = '.txt'\n",
    "        titles[x] = titles[x].replace(\"/\", \"-\")\n",
    "        newfilename = path + titles[x] + filext\n",
    "        revnote =  open(newfilename,'w')\n",
    "        revnote.write(textx[x])\n",
    "        revnote.close\n",
    " \n",
    "readMyFile('/home/rfile/dn/Geoquick_Tb_t2.csv')\n",
    "\n",
    "\n",
    "\n"
   ]
  },
  {
   "cell_type": "markdown",
   "metadata": {},
   "source": [
    "### Mod 2\n",
    "make local script file and provide the input file name and output path"
   ]
  },
  {
   "cell_type": "code",
   "execution_count": null,
   "metadata": {},
   "outputs": [],
   "source": [
    "#!/usr/bin/python3\n",
    "from sys import argv\n",
    "import csv\n",
    " \n",
    "def export_notes(filename, savepath):\n",
    "    titles = []\n",
    "    textx = []\n",
    " https://hub.mybinder.org/\n",
    "    with open(filename) as csvDataFile:\n",
    "        csvReader = csv.reader(csvDataFile)\n",
    "        for row in csvReader:\n",
    "            titles.append(row[0])\n",
    "            textx.append(row[1])\n",
    " \n",
    "    # return titles, textx\n",
    "    x = len(titles)\n",
    "    for x in range(x):\n",
    "        \"\"\"\n",
    "        function should get passed the path now\n",
    "        \"\"\"\n",
    "        #path = '/home/rfile/megrev/'\n",
    "        filext = '.txt'\n",
    "        titles[x] = titles[x].replace(\"/\", \"-\")\n",
    "        newfilename = savepath + titles[x] + filext\n",
    "        revnote =  open(newfilename,'w')\n",
    "        revnote.write(textx[x])\n",
    "        revnote.close\n",
    " \n",
    " \n",
    "export_notes(argv[1] , argv[2])\n"
   ]
  },
  {
   "cell_type": "markdown",
   "metadata": {},
   "source": [
    "look for invalid characters in title - using local file\n",
    "pip install sugify\n",
    "```\n",
    ">>> from slugify import slugify\n",
    ">>> txt = \"This\\ is/ a%#$ test ---\"\n",
    ">>> slugify(txt)\n",
    "'this-is-a-test'\n",
    "```\n",
    "\n",
    "[markdown syntax github](https://help.github.com/articles/basic-writing-and-formatting-syntax/)"
   ]
  },
  {
   "cell_type": "code",
   "execution_count": null,
   "metadata": {},
   "outputs": [],
   "source": [
    "from sys import argv\n",
    "import csv\n",
    "# this should clean up titles so there are no invalid characters for a filename\n",
    "import unicodedata\n",
    "from slugify import slugify\n",
    "def export_notes(filename):\n",
    "    titles = []\n",
    "    textx = []\n",
    " \n",
    "    with open(filename) as csvDataFile:\n",
    "        csvReader = csv.reader(csvDataFile)\n",
    "        for row in csvReader:\n",
    "            if row(3) == '':\n",
    "                row(3)\n",
    "            \n",
    "            titles.append(row[3])\n",
    "            textx.append(row[4])\n",
    "            \n",
    "    print(slugify(titles[3]))\n",
    "    print (\"----------------\")\n",
    "    print(textx[3])\n",
    "export_notes('/home/jovyan/gqwk.csv')\n",
    "            "
   ]
  },
  {
   "cell_type": "code",
   "execution_count": null,
   "metadata": {},
   "outputs": [],
   "source": [
    "#####!/usr/bin/python3\n",
    "from sys import argv\n",
    "import csv\n",
    "# this should clean up titles so there are no invalid characters for a filename\n",
    "from slugify import slugify\n",
    " \n",
    "def export_notes(filename, savepath):\n",
    "    titles = []\n",
    "    textx = []\n",
    "    if os.path.exists(savepath) == False :\n",
    "        os.mkdir(savepath)\n",
    "    with open(filename) as csvDataFile:\n",
    "        csvReader = csv.reader(csvDataFile)\n",
    "        for row in csvReader:\n",
    "            titles.append(row[0])\n",
    "            textx.append(row[1])\n",
    " \n",
    "    # return titles, textx\n",
    "    x = len(titles)\n",
    "    for x in range(x):\n",
    "        \n",
    "        filext = '.txt'\n",
    "        \n",
    "        #titles[x] = slugify(titles[x])\n",
    "        fullfilename = slugify(titles[x]) + filext\n",
    "        newfilename = os.path.join(savepath, fullfilename  ) \n",
    "        revnote =  open(newfilename,'w')\n",
    "        revnote.write(textx[x])\n",
    "        revnote.close\n",
    " \n",
    " \n",
    "export_notes('/home/jovyan/gqwk2.csv' , '/home/jovyan/notes/')\n"
   ]
  },
  {
   "cell_type": "code",
   "execution_count": null,
   "metadata": {},
   "outputs": [],
   "source": [
    "from pathlib import Path\n",
    "mypath = Path('/home/jovyan/notes')\n",
    "mypath.exists()\n",
    "\n"
   ]
  },
  {
   "cell_type": "code",
   "execution_count": null,
   "metadata": {},
   "outputs": [],
   "source": [
    "import os\n",
    "def wdir(pathname):\n",
    "    try:\n",
    "        os.mkdir(pathname)\n",
    "    except FileExistsError :\n",
    "        print(\"dir probs\")\n",
    "        os.path.joinpath(pathname)   \n",
    "        print(pathname)\n",
    "wdir('/home/jovyan/notes')"
   ]
  },
  {
   "cell_type": "markdown",
   "metadata": {},
   "source": [
    "https://www.programcreek.com/python/example/7256/exceptions.OSError\n",
    "\n",
    "https://stackoverflow.com/questions/37618224/how-to-check-if-a-string-ends-in-a-certain-way\n",
    "\n",
    "https://www.tutorialspoint.com/python3/python_exceptions.htm\n",
    "\n",
    "\n",
    "\n",
    "\n"
   ]
  },
  {
   "cell_type": "code",
   "execution_count": null,
   "metadata": {},
   "outputs": [],
   "source": [
    "import os\n",
    "def wdir(pathname):\n",
    "    if os.path.exists(pathname) == False :\n",
    "        os.mkdir(pathname)\n",
    "    pathname = os.path.join(pathname, '' )   \n",
    "    print(pathname)\n",
    "wdir('/home/jovyan/blah')"
   ]
  },
  {
   "cell_type": "code",
   "execution_count": null,
   "metadata": {},
   "outputs": [],
   "source": [
    "import csv\n",
    "exampleFile = open('gqwk.csv')\n",
    "exampleReader = csv.reader(exampleFile)\n",
    "exampleData = list(exampleReader)\n",
    "exampleData"
   ]
  },
  {
   "cell_type": "code",
   "execution_count": null,
   "metadata": {},
   "outputs": [],
   "source": [
    "from sys import argv\n",
    "import csv\n",
    "# this should clean up titles so there are no invalid characters for a filename\n",
    "from slugify import slugify\n",
    " \n",
    "def export_notes(filename, savepath):\n",
    "    titles = []\n",
    "    textx = []\n",
    "    if os.path.exists(savepath) == False :\n",
    "        os.mkdir(savepath)\n",
    "    with open(filename) as csvDataFile:\n",
    "        csvReader = csv.reader(csvDataFile)\n",
    "        for row in csvReader:\n",
    "            if len(row) <= 4:\n",
    "                pass\n",
    "        else:\n",
    "            titles.append(row[3])\n",
    "            textx.append(row[4])\n",
    " \n",
    "    # return titles, textx\n",
    "    x = len(titles)\n",
    "    for x in range(x):\n",
    "        \n",
    "        filext = '.txt'\n",
    "        \n",
    "        #titles[x] = slugify(titles[x])\n",
    "        fullfilename = slugify(titles[x]) + filext\n",
    "        newfilename = os.path.join(savepath, fullfilename  ) \n",
    "        revnote =  open(newfilename,'w')\n",
    "        revnote.write(textx[x])\n",
    "        revnote.close\n",
    " \n",
    " \n",
    "export_notes('/home/jovyan/gqwk.csv' , '/home/jovyan/blah/')"
   ]
  },
  {
   "cell_type": "markdown",
   "metadata": {},
   "source": [
    "## Look at\n",
    "** the nones this gives you **\n",
    "\n",
    "you mave to test each row so as to not get the out of range error\n"
   ]
  },
  {
   "cell_type": "code",
   "execution_count": null,
   "metadata": {},
   "outputs": [],
   "source": [
    "import csv\n",
    "with open('gqwk.csv', newline = '') as csvfile:\n",
    "    reader = csv.DictReader(csvfile, delimiter='\"')\n",
    "    for row in reader:\n",
    "        print(row[3], row[4])"
   ]
  },
  {
   "cell_type": "code",
   "execution_count": null,
   "metadata": {},
   "outputs": [],
   "source": []
  },
  {
   "cell_type": "code",
   "execution_count": null,
   "metadata": {},
   "outputs": [],
   "source": [
    "import pandas as pd\n",
    "\n",
    "msqlfile = open('gqmdb.csv', 'r')\n",
    "notes = pd.read_csv(msqlfile)\n",
    "\n",
    "\n",
    "    \n",
    "    \n"
   ]
  },
  {
   "cell_type": "code",
   "execution_count": null,
   "metadata": {},
   "outputs": [],
   "source": [
    "notes\n",
    "\n",
    "\n",
    "\n",
    "\n"
   ]
  },
  {
   "cell_type": "code",
   "execution_count": null,
   "metadata": {},
   "outputs": [],
   "source": [
    "menud = pd.DataFrame(\n",
    "    switcher = {\n",
    "       \"menu_number\" : [ 1, 2, 3, 4, 5, 6, 7, 8, 9, 10, 11, 12, 13, 14, 15],\n",
    "       \"menu_name\" : ['Menu 1', 'Menu 2', 'Menu 3', 'Menu 4', 'Menu 5', 'Menu 6', 'Menu 7']\n",
    "        2: \"February\",\n",
    "        3: \"March\",\n",
    "        4: \"April\",\n",
    "        5: \"May\",\n",
    "        6: \"June\",\n",
    "        7: \"July\",\n",
    "        8: \"August\",\n",
    "        9: \"September\",\n",
    "        10: \"October\",\n",
    "        11: \"November\",\n",
    "        12: \"December\",\n",
    "        13: \"Menu 13\",\n",
    "        14: \"Menu 14\",\n",
    "        15: \"Menu 15\"\n",
    "    })\n",
    "    print switcher.get(2, \"Invalid month\")"
   ]
  },
  {
   "cell_type": "markdown",
   "metadata": {},
   "source": [
    "## Qgis probs\n",
    "Couldn't load PyQt.\n",
    "Python support will be disabled.\n",
    "\n",
    "\n",
    "Traceback (most recent call last):\n",
    "  File \"\", line 1, in \n",
    "ImportError: /usr/lib/x86_64-linux-gnu/libQt5Core.so.5: version `Qt_5.10' not found (required by /usr/local/lib/python3.6/dist-packages/PyQt5/QtCore.so)\n",
    "\n",
    "\n",
    "Python version:\n",
    "3.6.3 (default, Oct  3 2017, 21:45:48) \n",
    "[GCC 7.2.0]\n",
    "\n",
    "QGIS version:\n",
    "3.0.2-Girona 'Girona', 307d082\n",
    "\n",
    "Python path:\n",
    "['/usr/share/qgis/python', '/home/rfile/.local/share/QGIS/QGIS3/profiles/default/python', '/home/rfile/.local/share/QGIS/QGIS3/profiles/default/python/plugins', '/usr/share/qgis/python/plugins', '/usr/lib/python36.zip', '/usr/lib/python3.6', '/usr/lib/python3.6/lib-dynload', '/usr/local/lib/python3.6/dist-packages', '/usr/local/lib/python3.6/dist-packages/setuptools-28.8.0-py3.6.egg', '/usr/lib/python3/dist-packages', '/usr/lib/python3.6/dist-packages']\n",
    "\n",
    "\n"
   ]
  },
  {
   "cell_type": "code",
   "execution_count": 25,
   "metadata": {},
   "outputs": [],
   "source": [
    "import gpxpy\n",
    "import matplotlib.pyplot as plt\n",
    "import datetime\n",
    "from geopy import distance\n",
    "from math import sqrt, floor\n",
    "import numpy as np\n",
    "import pandas as pd"
   ]
  },
  {
   "cell_type": "code",
   "execution_count": 26,
   "metadata": {},
   "outputs": [],
   "source": [
    "import geopandas as gpd\n",
    "geopandas.read_file()"
   ]
  },
  {
   "cell_type": "code",
   "execution_count": null,
   "metadata": {},
   "outputs": [],
   "source": [
    "def gpxdata(filename):\n",
    "    gpx_file = open(filename , 'r')\n",
    "    gpx = gpxpy.parse(gpx_file)\n",
    "    for waypoint in gpx.waypoints:\n",
    "        print (' {0} -> ({1},{2}) {3} {4} {5} {6}'.format( waypoint.name, waypoint.latitude, waypoint.longitude, waypoint.description, waypoint.time, waypoint.type, waypoint.link ))\n",
    "    \n",
    "    "
   ]
  },
  {
   "cell_type": "markdown",
   "metadata": {},
   "source": [
    "## Geopandas"
   ]
  },
  {
   "cell_type": "code",
   "execution_count": 6,
   "metadata": {},
   "outputs": [],
   "source": [
    "import geopandas as gpd\n",
    "from lxml import objectify\n",
    "def gpxdata(filename):\n",
    "    gpx_file = gpd.read_file(filename)\n",
    "    return gpx_file"
   ]
  },
  {
   "cell_type": "code",
   "execution_count": 3,
   "metadata": {},
   "outputs": [],
   "source": [
    "import gpxpy\n",
    "import pandas as pd\n",
    "def gpxdata(filename):\n",
    "    gpx_file = open(filename , 'r')\n",
    "    gpx = gpxpy.parse(gpx_file)\n",
    "    df = pd.DataFrame(columns=['gname', 'lon', 'lat', 'desc', 'time', 'link', 'wtype', 'placedby'])\n",
    "    for point in gpx.waypoints:\n",
    "        df = df.append({'gname':point.name,'lon': point.longitude, 'lat' : point.latitude, 'desc': point.description, 'time' : point.time, 'link': point.link, 'wtype': point.type, 'placedby' : groundspeak.placed_by}, ignore_index=True)\n",
    "    return df    \n",
    "    \n",
    "    "
   ]
  },
  {
   "cell_type": "code",
   "execution_count": null,
   "metadata": {},
   "outputs": [],
   "source": [
    "df"
   ]
  },
  {
   "cell_type": "code",
   "execution_count": null,
   "metadata": {},
   "outputs": [],
   "source": [
    "def gpxdata(filename):\n",
    "    gpx_file = open(filename , 'r')\n",
    "    gpx = gpxpy.parse(gpx_file)\n",
    "    print (gpx )\n",
    "\n"
   ]
  },
  {
   "cell_type": "code",
   "execution_count": 4,
   "metadata": {},
   "outputs": [
    {
     "ename": "NameError",
     "evalue": "name 'groundspeak' is not defined",
     "output_type": "error",
     "traceback": [
      "\u001b[0;31m---------------------------------------------------------------------------\u001b[0m",
      "\u001b[0;31mNameError\u001b[0m                                 Traceback (most recent call last)",
      "\u001b[0;32m<ipython-input-4-b55392e8964c>\u001b[0m in \u001b[0;36m<module>\u001b[0;34m()\u001b[0m\n\u001b[0;32m----> 1\u001b[0;31m \u001b[0mmydf\u001b[0m \u001b[0;34m=\u001b[0m \u001b[0mgpxdata\u001b[0m\u001b[0;34m(\u001b[0m\u001b[0;34m'ColtCreekcache.gpx'\u001b[0m\u001b[0;34m)\u001b[0m\u001b[0;34m\u001b[0m\u001b[0;34m\u001b[0m\u001b[0m\n\u001b[0m",
      "\u001b[0;32m<ipython-input-3-7dc4a3defa9b>\u001b[0m in \u001b[0;36mgpxdata\u001b[0;34m(filename)\u001b[0m\n\u001b[1;32m      6\u001b[0m     \u001b[0mdf\u001b[0m \u001b[0;34m=\u001b[0m \u001b[0mpd\u001b[0m\u001b[0;34m.\u001b[0m\u001b[0mDataFrame\u001b[0m\u001b[0;34m(\u001b[0m\u001b[0mcolumns\u001b[0m\u001b[0;34m=\u001b[0m\u001b[0;34m[\u001b[0m\u001b[0;34m'gname'\u001b[0m\u001b[0;34m,\u001b[0m \u001b[0;34m'lon'\u001b[0m\u001b[0;34m,\u001b[0m \u001b[0;34m'lat'\u001b[0m\u001b[0;34m,\u001b[0m \u001b[0;34m'desc'\u001b[0m\u001b[0;34m,\u001b[0m \u001b[0;34m'time'\u001b[0m\u001b[0;34m,\u001b[0m \u001b[0;34m'link'\u001b[0m\u001b[0;34m,\u001b[0m \u001b[0;34m'wtype'\u001b[0m\u001b[0;34m,\u001b[0m \u001b[0;34m'placedby'\u001b[0m\u001b[0;34m]\u001b[0m\u001b[0;34m)\u001b[0m\u001b[0;34m\u001b[0m\u001b[0;34m\u001b[0m\u001b[0m\n\u001b[1;32m      7\u001b[0m     \u001b[0;32mfor\u001b[0m \u001b[0mpoint\u001b[0m \u001b[0;32min\u001b[0m \u001b[0mgpx\u001b[0m\u001b[0;34m.\u001b[0m\u001b[0mwaypoints\u001b[0m\u001b[0;34m:\u001b[0m\u001b[0;34m\u001b[0m\u001b[0;34m\u001b[0m\u001b[0m\n\u001b[0;32m----> 8\u001b[0;31m         \u001b[0mdf\u001b[0m \u001b[0;34m=\u001b[0m \u001b[0mdf\u001b[0m\u001b[0;34m.\u001b[0m\u001b[0mappend\u001b[0m\u001b[0;34m(\u001b[0m\u001b[0;34m{\u001b[0m\u001b[0;34m'gname'\u001b[0m\u001b[0;34m:\u001b[0m\u001b[0mpoint\u001b[0m\u001b[0;34m.\u001b[0m\u001b[0mname\u001b[0m\u001b[0;34m,\u001b[0m\u001b[0;34m'lon'\u001b[0m\u001b[0;34m:\u001b[0m \u001b[0mpoint\u001b[0m\u001b[0;34m.\u001b[0m\u001b[0mlongitude\u001b[0m\u001b[0;34m,\u001b[0m \u001b[0;34m'lat'\u001b[0m \u001b[0;34m:\u001b[0m \u001b[0mpoint\u001b[0m\u001b[0;34m.\u001b[0m\u001b[0mlatitude\u001b[0m\u001b[0;34m,\u001b[0m \u001b[0;34m'desc'\u001b[0m\u001b[0;34m:\u001b[0m \u001b[0mpoint\u001b[0m\u001b[0;34m.\u001b[0m\u001b[0mdescription\u001b[0m\u001b[0;34m,\u001b[0m \u001b[0;34m'time'\u001b[0m \u001b[0;34m:\u001b[0m \u001b[0mpoint\u001b[0m\u001b[0;34m.\u001b[0m\u001b[0mtime\u001b[0m\u001b[0;34m,\u001b[0m \u001b[0;34m'link'\u001b[0m\u001b[0;34m:\u001b[0m \u001b[0mpoint\u001b[0m\u001b[0;34m.\u001b[0m\u001b[0mlink\u001b[0m\u001b[0;34m,\u001b[0m \u001b[0;34m'wtype'\u001b[0m\u001b[0;34m:\u001b[0m \u001b[0mpoint\u001b[0m\u001b[0;34m.\u001b[0m\u001b[0mtype\u001b[0m\u001b[0;34m,\u001b[0m \u001b[0;34m'placedby'\u001b[0m \u001b[0;34m:\u001b[0m \u001b[0mgroundspeak\u001b[0m\u001b[0;34m.\u001b[0m\u001b[0mplaced_by\u001b[0m\u001b[0;34m}\u001b[0m\u001b[0;34m,\u001b[0m \u001b[0mignore_index\u001b[0m\u001b[0;34m=\u001b[0m\u001b[0;32mTrue\u001b[0m\u001b[0;34m)\u001b[0m\u001b[0;34m\u001b[0m\u001b[0;34m\u001b[0m\u001b[0m\n\u001b[0m\u001b[1;32m      9\u001b[0m     \u001b[0;32mreturn\u001b[0m \u001b[0mdf\u001b[0m\u001b[0;34m\u001b[0m\u001b[0;34m\u001b[0m\u001b[0m\n\u001b[1;32m     10\u001b[0m \u001b[0;34m\u001b[0m\u001b[0m\n",
      "\u001b[0;31mNameError\u001b[0m: name 'groundspeak' is not defined"
     ]
    }
   ],
   "source": [
    "mydf = gpxdata('ColtCreekcache.gpx')"
   ]
  },
  {
   "cell_type": "code",
   "execution_count": null,
   "metadata": {},
   "outputs": [],
   "source": [
    "gpxdata('ColtCreekcache.gpx')"
   ]
  },
  {
   "cell_type": "code",
   "execution_count": 5,
   "metadata": {},
   "outputs": [
    {
     "data": {
      "text/plain": [
       "ele                        object\n",
       "time                       object\n",
       "magvar                     object\n",
       "geoidheight                object\n",
       "name                       object\n",
       "cmt                        object\n",
       "desc                       object\n",
       "src                        object\n",
       "link1_href                 object\n",
       "link1_text                 object\n",
       "link1_type                 object\n",
       "link2_href                 object\n",
       "link2_text                 object\n",
       "link2_type                 object\n",
       "sym                        object\n",
       "type                       object\n",
       "fix                        object\n",
       "sat                        object\n",
       "hdop                       object\n",
       "vdop                       object\n",
       "pdop                       object\n",
       "ageofdgpsdata              object\n",
       "dgpsid                     object\n",
       "ql_key                     object\n",
       "ql_flags                    int64\n",
       "ql_bubble                  object\n",
       "wptx1_WaypointExtension    object\n",
       "geometry                   object\n",
       "dtype: object"
      ]
     },
     "execution_count": 5,
     "metadata": {},
     "output_type": "execute_result"
    }
   ],
   "source": [
    "mydf.dtypes"
   ]
  },
  {
   "cell_type": "code",
   "execution_count": null,
   "metadata": {},
   "outputs": [],
   "source": []
  }
 ],
 "metadata": {
  "kernelspec": {
   "display_name": "Python 3",
   "language": "python",
   "name": "python3"
  },
  "language_info": {
   "codemirror_mode": {
    "name": "ipython",
    "version": 3
   },
   "file_extension": ".py",
   "mimetype": "text/x-python",
   "name": "python",
   "nbconvert_exporter": "python",
   "pygments_lexer": "ipython3",
   "version": "3.6.7"
  }
 },
 "nbformat": 4,
 "nbformat_minor": 2
}
