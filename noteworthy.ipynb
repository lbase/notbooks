{
 "cells": [
  {
   "cell_type": "markdown",
   "metadata": {},
   "source": [
    "notes for csv parsing\n",
    "===================\n",
    "\n",
    "there is a slash in some of the titles so may have to scrub that\n",
    "\n"
   ]
  },
  {
   "cell_type": "markdown",
   "metadata": {},
   "source": [
    "### Original "
   ]
  },
  {
   "cell_type": "code",
   "execution_count": null,
   "metadata": {},
   "outputs": [],
   "source": [
    "import csv\n",
    " \n",
    "def readMyFile(filename):\n",
    "    titles = []\n",
    "    textx = []\n",
    " \n",
    "    with open(filename) as csvDataFile:\n",
    "        csvReader = csv.reader(csvDataFile)\n",
    "        for row in csvReader:\n",
    "            titles.append(row[0])\n",
    "            textx.append(row[1])\n",
    " \n",
    "    # return titles, textx\n",
    "    x = len(titles)\n",
    "    for x in range(x):\n",
    "        path = '/home/rfile/megrev/'\n",
    "        filext = '.txt'\n",
    "        titles[x] = titles[x].replace(\"/\", \"-\")\n",
    "        newfilename = path + titles[x] + filext\n",
    "        revnote =  open(newfilename,'w')\n",
    "        revnote.write(textx[x])\n",
    "        revnote.close\n",
    " \n",
    "readMyFile('/home/rfile/dn/Geoquick_Tb_t2.csv')\n",
    "\n",
    "\n",
    "\n"
   ]
  },
  {
   "cell_type": "markdown",
   "metadata": {},
   "source": [
    "### Mod 2\n",
    "make local script file and provide the input file name and output path"
   ]
  },
  {
   "cell_type": "code",
   "execution_count": null,
   "metadata": {},
   "outputs": [],
   "source": [
    "#!/usr/bin/python3\n",
    "from sys import argv\n",
    "import csv\n",
    " \n",
    "def export_notes(filename, savepath):\n",
    "    titles = []\n",
    "    textx = []\n",
    " https://hub.mybinder.org/\n",
    "    with open(filename) as csvDataFile:\n",
    "        csvReader = csv.reader(csvDataFile)\n",
    "        for row in csvReader:\n",
    "            titles.append(row[0])\n",
    "            textx.append(row[1])\n",
    " \n",
    "    # return titles, textx\n",
    "    x = len(titles)\n",
    "    for x in range(x):\n",
    "        \"\"\"\n",
    "        function should get passed the path now\n",
    "        \"\"\"\n",
    "        #path = '/home/rfile/megrev/'\n",
    "        filext = '.txt'\n",
    "        titles[x] = titles[x].replace(\"/\", \"-\")\n",
    "        newfilename = savepath + titles[x] + filext\n",
    "        revnote =  open(newfilename,'w')\n",
    "        revnote.write(textx[x])\n",
    "        revnote.close\n",
    " \n",
    " \n",
    "export_notes(argv[1] , argv[2])\n"
   ]
  },
  {
   "cell_type": "markdown",
   "metadata": {},
   "source": [
    "look for invalid characters in title - using local file\n",
    "pip install sugify\n",
    "```\n",
    ">>> from slugify import slugify\n",
    ">>> txt = \"This\\ is/ a%#$ test ---\"\n",
    ">>> slugify(txt)\n",
    "'this-is-a-test'\n",
    "```\n",
    "\n",
    "[markdown syntax github](https://help.github.com/articles/basic-writing-and-formatting-syntax/)"
   ]
  },
  {
   "cell_type": "code",
   "execution_count": 1,
   "metadata": {},
   "outputs": [
    {
     "name": "stdout",
     "output_type": "stream",
     "text": [
      "cemetery\n",
      "----------------\n",
      "Cemeteries are generally private properties not intended for recreation. Please provide the name and contact information for the person who gave you permission for a hide in this one.\n"
     ]
    }
   ],
   "source": [
    "from sys import argv\n",
    "import csv\n",
    "# this should clean up titles so there are no invalid characters for a filename\n",
    "import unicodedata\n",
    "from slugify import slugify\n",
    "def export_notes(filename):\n",
    "    titles = []\n",
    "    textx = []\n",
    " \n",
    "    with open(filename) as csvDataFile:\n",
    "        csvReader = csv.reader(csvDataFile)\n",
    "        for row in csvReader:\n",
    "            titles.append(row[0])\n",
    "            textx.append(row[1])\n",
    "            \n",
    "    print(slugify(titles[3]))\n",
    "    print (\"----------------\")\n",
    "    print(textx[3])\n",
    "export_notes('/home/jovyan/notes/gqwk.csv')\n",
    "            "
   ]
  },
  {
   "cell_type": "code",
   "execution_count": 3,
   "metadata": {},
   "outputs": [],
   "source": [
    "#####!/usr/bin/python3\n",
    "from sys import argv\n",
    "import csv\n",
    "# this should clean up titles so there are no invalid characters for a filename\n",
    "from slugify import slugify\n",
    " \n",
    "def export_notes(filename, savepath):\n",
    "    titles = []\n",
    "    textx = []\n",
    " \n",
    "    with open(filename) as csvDataFile:\n",
    "        csvReader = csv.reader(csvDataFile)\n",
    "        for row in csvReader:\n",
    "            titles.append(row[0])\n",
    "            textx.append(row[1])\n",
    " \n",
    "    # return titles, textx\n",
    "    x = len(titles)\n",
    "    for x in range(x):\n",
    "        \"\"\"\n",
    "        function should get passed the path now\n",
    "        \"\"\"\n",
    "        #path = '/home/rfile/megrev/'\n",
    "        filext = '.txt'\n",
    "        # titles[x] = titles[x].replace(\"/\", \"-\")\n",
    "        titles[x] = slugify(titles[x])\n",
    "        newfilename = savepath + titles[x] + filext\n",
    "        revnote =  open(newfilename,'w')\n",
    "        revnote.write(textx[x])\n",
    "        revnote.close\n",
    " \n",
    " \n",
    "export_notes('/home/jovyan/notes/gqwk.csv' , '/home/jovyan/notes/')\n"
   ]
  },
  {
   "cell_type": "code",
   "execution_count": 5,
   "metadata": {},
   "outputs": [
    {
     "data": {
      "text/plain": [
       "False"
      ]
     },
     "execution_count": 5,
     "metadata": {},
     "output_type": "execute_result"
    }
   ],
   "source": [
    "from pathlib import Path\n",
    "mypath = Path('/home/jovyan/notes')\n",
    "mypath.exists()\n",
    "\n"
   ]
  },
  {
   "cell_type": "code",
   "execution_count": 10,
   "metadata": {},
   "outputs": [
    {
     "name": "stdout",
     "output_type": "stream",
     "text": [
      "dir already there\n"
     ]
    }
   ],
   "source": [
    "import os\n",
    "def wdir(pathname):\n",
    "    try:\n",
    "        os.mkdir(pathname)\n",
    "    except FileExistsError:\n",
    "        print(\"dir already there\")\n",
    "        \n",
    "wdir('/home/jovyan/notes')"
   ]
  },
  {
   "cell_type": "code",
   "execution_count": null,
   "metadata": {},
   "outputs": [],
   "source": []
  },
  {
   "cell_type": "code",
   "execution_count": null,
   "metadata": {},
   "outputs": [],
   "source": []
  }
 ],
 "metadata": {
  "kernelspec": {
   "display_name": "Python 3",
   "language": "python",
   "name": "python3"
  },
  "language_info": {
   "codemirror_mode": {
    "name": "ipython",
    "version": 3
   },
   "file_extension": ".py",
   "mimetype": "text/x-python",
   "name": "python",
   "nbconvert_exporter": "python",
   "pygments_lexer": "ipython3",
   "version": "3.6.3"
  }
 },
 "nbformat": 4,
 "nbformat_minor": 2
}
