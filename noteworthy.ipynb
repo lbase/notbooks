{
 "cells": [
  {
   "cell_type": "markdown",
   "metadata": {},
   "source": [
    "notes for csv parsing\n",
    "===================\n",
    "\n",
    "there is a slash in some of the titles so may have to scrub that\n",
    "\n"
   ]
  },
  {
   "cell_type": "code",
   "execution_count": null,
   "metadata": {},
   "outputs": [],
   "source": [
    "import csv\n",
    " \n",
    "def readMyFile(filename):\n",
    "    titles = []\n",
    "    textx = []\n",
    " \n",
    "    with open(filename) as csvDataFile:\n",
    "        csvReader = csv.reader(csvDataFile)\n",
    "        for row in csvReader:\n",
    "            titles.append(row[0])\n",
    "            textx.append(row[1])\n",
    " \n",
    "    # return titles, textx\n",
    "    x = len(titles)\n",
    "    for x in range(x):\n",
    "        path = '/home/rfile/megrev/'\n",
    "        filext = '.txt'\n",
    "        titles[x] = titles[x].replace(\"/\", \"-\")\n",
    "        newfilename = path + titles[x] + filext\n",
    "        revnote =  open(newfilename,'w')\n",
    "        revnote.write(textx[x])\n",
    "        revnote.close\n",
    " \n",
    "readMyFile('/home/rfile/dn/Geoquick_Tb_t2.csv')\n",
    "\n",
    "\n",
    "\n"
   ]
  }
 ],
 "metadata": {
  "kernelspec": {
   "display_name": "Python 3",
   "language": "python",
   "name": "python3"
  },
  "language_info": {
   "codemirror_mode": {
    "name": "ipython",
    "version": 3
   },
   "file_extension": ".py",
   "mimetype": "text/x-python",
   "name": "python",
   "nbconvert_exporter": "python",
   "pygments_lexer": "ipython3",
   "version": "3.6.3"
  }
 },
 "nbformat": 4,
 "nbformat_minor": 2
}