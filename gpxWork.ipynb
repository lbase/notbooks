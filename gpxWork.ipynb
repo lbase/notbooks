{
 "cells": [
  {
   "cell_type": "markdown",
   "metadata": {},
   "source": [
    "### Pandas and GPX"
   ]
  },
  {
   "cell_type": "code",
   "execution_count": null,
   "metadata": {},
   "outputs": [],
   "source": [
    "%config IPCompleter.greedy=True"
   ]
  },
  {
   "cell_type": "code",
   "execution_count": null,
   "metadata": {},
   "outputs": [],
   "source": [
    "import gpxpy\n",
    "import matplotlib.pyplot as plt\n",
    "import datetime\n",
    "from geopy import distance\n",
    "from math import sqrt, floor\n",
    "import numpy as np\n",
    "import pandas as pd"
   ]
  },
  {
   "cell_type": "code",
   "execution_count": 20,
   "metadata": {},
   "outputs": [],
   "source": [
    "# this one works \n",
    "import geopandas as gpd\n",
    "import fiona; fiona.supported_drivers\n",
    "from lxml import objectify\n",
    "def gpxdata(filename):\n",
    "    gpx_file = gpd.read_file(filename)\n",
    "    return gpx_file"
   ]
  },
  {
   "cell_type": "code",
   "execution_count": 26,
   "metadata": {},
   "outputs": [],
   "source": [
    "mydf = gpxdata(\"ColtCreekcache.gpx\")"
   ]
  },
  {
   "cell_type": "code",
   "execution_count": 27,
   "metadata": {},
   "outputs": [
    {
     "data": {
      "text/plain": [
       "<matplotlib.axes._subplots.AxesSubplot at 0x7f0eb845db70>"
      ]
     },
     "execution_count": 27,
     "metadata": {},
     "output_type": "execute_result"
    },
    {
     "data": {
      "image/png": "[encoded data removed]",
      "text/plain": [
       "<matplotlib.figure.Figure at 0x7f0eb846a5f8>"
      ]
     },
     "metadata": {
      "needs_background": "light"
     },
     "output_type": "display_data"
    }
   ],
   "source": [
    "mydf.plot()"
   ]
  },
  {
   "cell_type": "code",
   "execution_count": null,
   "metadata": {},
   "outputs": [],
   "source": [
    "import geopandas as gpd\n",
    "import lxml \n",
    "from lxml import objectify\n",
    "def gpxdata(filename):\n",
    "    gpx_file = objectify.parse(filename)\n",
    "    root = gpx_file.getroot()\n",
    "    ch = root.getchildren()\n",
    "    # return ch\n",
    "    # chnum = len(root.getchildren())\n",
    "    ch = [child.tag for child in root.getchildren()]\n",
    "    return ch"
   ]
  },
  {
   "cell_type": "code",
   "execution_count": null,
   "metadata": {},
   "outputs": [],
   "source": [
    "mydf = gpxdata('ColtCreekcache.gpx')"
   ]
  },
  {
   "cell_type": "code",
   "execution_count": null,
   "metadata": {},
   "outputs": [],
   "source": [
    "mydf"
   ]
  },
  {
   "cell_type": "code",
   "execution_count": null,
   "metadata": {},
   "outputs": [],
   "source": [
    "# this one working somewhat\n",
    "import pandas as pd\n",
    "import lxml \n",
    "from lxml import objectify\n",
    "def gpxdata(filename):\n",
    "    gpx_file = objectify.parse(filename)\n",
    "    root = gpx_file.getroot()\n",
    "    data=[]\n",
    "    for i in range(len(root.getchildren())):\n",
    "        data.append([child.text for child in root.getchildren()[i].getchildren()])\n",
    "    \n",
    "    df = pd.DataFrame(data)\n",
    "    return df"
   ]
  },
  {
   "cell_type": "code",
   "execution_count": null,
   "metadata": {},
   "outputs": [],
   "source": [
    "mydf = gpxdata('ColtCreekcache.gpx')"
   ]
  },
  {
   "cell_type": "code",
   "execution_count": null,
   "metadata": {},
   "outputs": [],
   "source": [
    "mydf"
   ]
  },
  {
   "cell_type": "code",
   "execution_count": null,
   "metadata": {},
   "outputs": [],
   "source": [
    "# gets outer data but not groundspeak tree\n",
    "# inner attributes not supported by gpxpy\n",
    "# https://github.com/tkrajina/gpxpy/issues/73\n",
    "import gpxpy\n",
    "import pandas as pd\n",
    "def gpxdata(filename):\n",
    "    gpx_file = open(filename , 'r')\n",
    "    gpx = gpxpy.parse(gpx_file)\n",
    "    df = pd.DataFrame(columns=['gname', 'lon', 'lat', 'desc', 'time', 'link', 'wtype' ])\n",
    "    for point in gpx.waypoints:\n",
    "        df = df.append({'gname':point.name,'lon': point.longitude, 'lat' : point.latitude, 'desc': point.description, 'time' : point.time, 'link': point.link, 'wtype': point.type}, ignore_index=True)\n",
    "        \n",
    "    return df    \n",
    "    \n",
    "    "
   ]
  },
  {
   "cell_type": "code",
   "execution_count": null,
   "metadata": {},
   "outputs": [],
   "source": [
    "mydf = gpxdata('ColtCreekcache.gpx')"
   ]
  },
  {
   "cell_type": "code",
   "execution_count": null,
   "metadata": {},
   "outputs": [],
   "source": [
    "mydf"
   ]
  },
  {
   "cell_type": "code",
   "execution_count": null,
   "metadata": {},
   "outputs": [],
   "source": [
    "# works but dictionaries inside dictionaries\n",
    "import xmltodict\n",
    "import pandas as pd\n",
    "import sqlite3\n",
    "def gpxdata(filename):\n",
    "    with open(filename) as fd:\n",
    "        gpxfile = xmltodict.parse(fd.read())\n",
    "        df = pd.DataFrame.from_dict(gpxfile)\n",
    "    return df"
   ]
  },
  {
   "cell_type": "code",
   "execution_count": null,
   "metadata": {},
   "outputs": [],
   "source": [
    "mydf = gpxdata('ColtCreekcache.gpx')"
   ]
  },
  {
   "cell_type": "code",
   "execution_count": null,
   "metadata": {},
   "outputs": [],
   "source": [
    "mydf"
   ]
  },
  {
   "cell_type": "code",
   "execution_count": null,
   "metadata": {},
   "outputs": [],
   "source": [
    "import xmltodict\n",
    "import pandas as pd\n",
    "def gpxdata(filename):\n",
    "    with open(filename) as fd:\n",
    "        gpx = xmltodict.parse(fd.read())\n",
    "        #print(gpx)\n",
    "        df = pd.DataFrame(columns=['gname', 'lon', 'lat'])\n",
    "        for point in gpx['gpx']['wpt'] :\n",
    "            # df.append({'gname': gpx['gpx']['wpt']['name'], 'lon': gpx ['gpx']['wpt']['@lon'], 'lat' : gpx['gpx']['wpt']['@lat']}, ignore_index=True)\n",
    "            df.append({'gname': ['gpx']['wpt']['name'], 'lon': ['gpx']['wpt']['@lon'], 'lat' : ['gpx']['wpt']['@lat']}, ignore_index=True)\n",
    "    #print(gpx)\n",
    "    return df"
   ]
  },
  {
   "cell_type": "code",
   "execution_count": null,
   "metadata": {},
   "outputs": [],
   "source": [
    "mydf = gpxdata('ColtCreekcache.gpx')"
   ]
  },
  {
   "cell_type": "code",
   "execution_count": null,
   "metadata": {},
   "outputs": [],
   "source": [
    "mydf"
   ]
  },
  {
   "cell_type": "code",
   "execution_count": null,
   "metadata": {},
   "outputs": [],
   "source": [
    "import xmltodict\n",
    "import pandas as pd\n",
    "def gpxdata(filename):\n",
    "    with open(filename) as fd:\n",
    "        gpx = xmltodict.parse(fd.read())\n",
    "        df = pd.DataFrame(columns=['A','gname', 'lon', 'lat'])\n",
    "        for p in gpx['gpx']['wpt'] :\n",
    "        \n",
    "            df.append({'A' : 1,'gname': gpx[\"gpx\"][\"wpt\"][\"name\"][p], 'lon': gpx [\"gpx\"][\"wpt\"]['@lon'][p], 'lat' : gpx[\"gpx\"][\"wpt\"]['@lat'][p]}, ignore_index=True)\n",
    "        \n",
    "    return df"
   ]
  },
  {
   "cell_type": "code",
   "execution_count": null,
   "metadata": {},
   "outputs": [],
   "source": [
    "import xmltodict\n",
    "import pandas as pd\n",
    "def gpxdata(filename):\n",
    "    with open(filename) as fd:\n",
    "        gpxf = xmltodict.parse(fd.read(), process_namespaces=True)\n",
    "        print(gpxf.gpx.wpt)\n",
    "        df = pd.DataFrame(columns=['gname', 'lon', 'lat'])\n",
    "        for point in gpx['gpx']['wpt'] :\n",
    "            df.append({'gname': gpx['gpx']['wpt']['name'], 'lon': gpx ['gpx']['wpt']['@lon'], 'lat' : gpx['gpx']['wpt']['@lat']}, ignore_index=True)\n",
    "            # df.append({'gname': gpx['gpx']['2']['3'], 'lon': gpx ['gpx']['2']['@lon'], 'lat' : gpx['gpx']['2']['@lat']}, ignore_index=True)\n",
    "        \n",
    "    return df"
   ]
  },
  {
   "cell_type": "code",
   "execution_count": null,
   "metadata": {},
   "outputs": [],
   "source": [
    "mydf = gpxdata('ColtCreekcache.gpx')"
   ]
  },
  {
   "cell_type": "code",
   "execution_count": null,
   "metadata": {},
   "outputs": [],
   "source": [
    "import pandas as pd\n",
    "import xmltodict\n",
    "def gpxdata(filename):\n",
    "    with open(filename) as fd:\n",
    "        gpxfile = xmltodict.parse(fd.read())\n",
    "    print(gpxfile)"
   ]
  },
  {
   "cell_type": "code",
   "execution_count": null,
   "metadata": {},
   "outputs": [],
   "source": [
    "import sqlite3\n",
    "import pandas as pd\n",
    "pd.set_option('display.width', 5000) \n",
    "pd.set_option('display.max_columns', 70)\n",
    "\n",
    "def gpxdata(filename,table) :\n",
    "# Create a SQL connection to our SQLite database\n",
    "    con = sqlite3.connect(filename)\n",
    "    df = pd.read_sql_query(\"SELECT * from \" + table, con)\n",
    "    con.close()\n",
    "    return df\n"
   ]
  },
  {
   "cell_type": "code",
   "execution_count": null,
   "metadata": {},
   "outputs": [],
   "source": [
    "mydf = gpxdata('sqlite.db3', 'Caches')"
   ]
  },
  {
   "cell_type": "code",
   "execution_count": null,
   "metadata": {},
   "outputs": [],
   "source": [
    "dfo = pd.DataFrame.from_dict(mydf.iat[14,0])\n"
   ]
  },
  {
   "cell_type": "code",
   "execution_count": null,
   "metadata": {},
   "outputs": [],
   "source": [
    "mydf"
   ]
  },
  {
   "cell_type": "code",
   "execution_count": null,
   "metadata": {},
   "outputs": [],
   "source": [
    "from xml.dom import minidom\n",
    "import pandas as pd\n",
    "def gpxdata(filename):\n",
    "    gpx_file = minidom.parse(filename)\n",
    "    name = gpx_file.getElementsByTagName(\"wpt\")[0]\n",
    "    \n",
    "    print(name)"
   ]
  },
  {
   "cell_type": "code",
   "execution_count": null,
   "metadata": {},
   "outputs": [],
   "source": [
    "from xml.etree import ElementTree\n",
    "tree = ElementTree.parse(\"ColtCreekcache.gpx\")\n",
    "for wpt in gpx :\n",
    "    item = tree.getroot()[9][7][9].text\n",
    "    print(item)"
   ]
  }
 ],
 "metadata": {
  "kernelspec": {
   "display_name": "Python 3",
   "language": "python",
   "name": "python3"
  },
  "language_info": {
   "codemirror_mode": {
    "name": "ipython",
    "version": 3
   },
   "file_extension": ".py",
   "mimetype": "text/x-python",
   "name": "python",
   "nbconvert_exporter": "python",
   "pygments_lexer": "ipython3",
   "version": "3.6.7"
  }
 },
 "nbformat": 4,
 "nbformat_minor": 2
}
