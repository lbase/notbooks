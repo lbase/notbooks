{
 "cells": [
  {
   "cell_type": "markdown",
   "metadata": {},
   "source": [
    "# Notebook 2 - geoquick parsing"
   ]
  },
  {
   "cell_type": "code",
   "execution_count": null,
   "metadata": {},
   "outputs": [],
   "source": [
    "import os\n",
    "def wdir(pathname,filename):\n",
    "    if os.path.exists(pathname) == False :\n",
    "        os.mkdir(pathname)\n",
    "    fullname = os.path.join(pathname, filename )   \n",
    "    print(fullname)\n",
    "wdir('/home/rfile/blah', 'test.txt')"
   ]
  },
  {
   "cell_type": "code",
   "execution_count": null,
   "metadata": {},
   "outputs": [],
   "source": [
    "import csv\n",
    "with open('gqwksql.csv', newline = '') as csvfile:\n",
    "    reader = csv.DictReader(csvfile, delimiter='\"')\n",
    "    for row in reader:\n",
    "        if row['Title'] is None :\n",
    "            row['Title'] = 'title text'\n",
    "        if row['Text'] is None :\n",
    "           row['Text'] = 'no text'\n",
    "        \n",
    "        print(row['Title'], \"\\n---------------------------------\\n\" , row['Text'], '\\n==================================\\n')"
   ]
  },
  {
   "cell_type": "code",
   "execution_count": null,
   "metadata": {},
   "outputs": [],
   "source": [
    "import csv\n",
    "with open('gq.vsv') as csvfile:\n",
    "    reader = csv.DictReader(csvfile, delimiter='')\n",
    "    dialect=csv.unix_dialect\n",
    "    for row in reader:\n",
    "        print(row)"
   ]
  },
  {
   "cell_type": "code",
   "execution_count": null,
   "metadata": {},
   "outputs": [],
   "source": [
    "import csv\n",
    "titles = []\n",
    "textx = []\n",
    "with open(\"gqwksql.csv\", newline='', delimiter='\"') as csvDataFile:\n",
    "        csvReader = csv.reader(csvDataFile)\n",
    "        for row in csvReader:\n",
    "            titles.append(row[3])\n",
    "            textx.append(row[4])\n",
    "print(titles[4], textx[4])            \n",
    " \n"
   ]
  },
  {
   "cell_type": "code",
   "execution_count": null,
   "metadata": {},
   "outputs": [],
   "source": [
    "import os\n",
    "import csv\n",
    "from slugify import slugify\n",
    "\n",
    "\n",
    "def export_notes(filename, savepath):\n",
    "    filext='.txt'\n",
    "    if os.path.exists(savepath) == False :\n",
    "        os.mkdir(savepath)\n",
    "    with open(filename, newline = '') as csvfile:\n",
    "        reader = csv.DictReader(csvfile, delimiter='\"')\n",
    "        for row in reader:\n",
    "            if row['Title'] is None :\n",
    "                row['Title'] = 'title text'\n",
    "            if row['Text'] is None :\n",
    "               row['Text'] = 'no text'\n",
    "            fullfilename = slugify(row['Title'], separator=' ') + filext\n",
    "            newfilename=os.path.join(savepath, fullfilename)\n",
    "            revnote = open(newfilename, 'w')\n",
    "            revnote.write(row['Text'].replace('\\\\n','\\n'))\n",
    "            revnote.close\n",
    "        \n",
    "export_notes('gqmdb.csv' , '/home/rfile/python3/notebooks/mnotes')        \n",
    "        "
   ]
  },
  {
   "cell_type": "markdown",
   "metadata": {},
   "source": [
    "gmdb2 did not seem to do the trick on export. \n",
    "\n",
    "Had to do a double import export\n",
    "\n",
    "ended up exporting sql and then importing into sqlite db and exporting again\n",
    "\n",
    "note the delimiter line for the DictReader as the export from sqlite was single quote double quote\n",
    "\n",
    "```\n",
    "mdb-export -I sqlite GeoQuick.dat GeoQuick_Tb > geoquick.sql\n",
    "```\n",
    "going to get rid of most of the spurious data before I commit...\n",
    "\n",
    "3-10-18\n",
    "\n",
    "rfile at home\n",
    "\n"
   ]
  },
  {
   "cell_type": "code",
   "execution_count": null,
   "metadata": {},
   "outputs": [],
   "source": [
    "import pandas\n"
   ]
  },
  {
   "cell_type": "code",
   "execution_count": null,
   "metadata": {},
   "outputs": [],
   "source": [
    "import pandas as pd\n",
    "import sqlalchemy\n",
    "msqlfile = open('geoquick.sql', 'r')\n",
    "pd.read_sql_query(msqlfile, )"
   ]
  },
  {
   "cell_type": "markdown",
   "metadata": {},
   "source": [
    "```\n",
    "mdb-export GeoQuick.dat GeoQuick_Tb > gqmdb.csv\n",
    "\n",
    "```"
   ]
  },
  {
   "cell_type": "code",
   "execution_count": null,
   "metadata": {},
   "outputs": [],
   "source": [
    "import pandas as pd\n",
    "\n",
    "msqlfile = open('gqmdb.csv', 'r')\n",
    "notes = pd.read_csv(msqlfile)\n",
    "print(notes['Title'][8])\n",
    "print(notes['Text'][8])\n",
    "print(notes['Menu_Number'][8])\n",
    "    \n",
    "    \n"
   ]
  },
  {
   "cell_type": "code",
   "execution_count": null,
   "metadata": {},
   "outputs": [],
   "source": [
    "import pandas as pd\n",
    "\n",
    "def switch_demo(argument):\n",
    "    switcher = {\n",
    "        0: \"Main\",\n",
    "        1: \"Menu 1\",\n",
    "        2: \"Menu 2\",\n",
    "        3: \"Menu 3\",\n",
    "        4: \"Menu 4\",\n",
    "        5: \"Menu 5\",\n",
    "        6: \"Menu 6\",\n",
    "        7: \"Menu 7\",\n",
    "        8: \"Menu 8\",\n",
    "        9: \"Menu 9\",\n",
    "        10: \"Menu 10\",\n",
    "        11: \"Menu 11\",\n",
    "        12: \"Menu 12\",\n",
    "        13: \"Menu 13\",\n",
    "        14: \"Menu 14\",\n",
    "        15: \"Menu 15\"\n",
    "        \n",
    "    }\n",
    "    return switcher.get(argument, \"Invalid month\")    \n",
    "msqlfile = open('gqmdb.csv', 'r')\n",
    "notes = pd.read_csv(msqlfile)\n",
    "print(notes['Title'][8])\n",
    "print(notes['Text'][8])\n",
    "print(notes['Menu_Number'][8])\n",
    "menu_entry = (notes['Menu_Number'][8])   \n",
    "\n",
    "print(switch_demo(menu_entry))\n",
    "mycsvfile = open(mymenu.csv, 'w')\n",
    "menunotes = pd.to_csv   "
   ]
  },
  {
   "cell_type": "code",
   "execution_count": null,
   "metadata": {},
   "outputs": [],
   "source": [
    "import pandas as pd\n",
    "\n",
    "msqlfile = open('gqmdb.csv', 'r')\n",
    "notes = pd.read_csv(msqlfile)\n",
    "print(notes['Title'][7])\n",
    "print(notes['Text'][7])\n"
   ]
  },
  {
   "cell_type": "code",
   "execution_count": null,
   "metadata": {},
   "outputs": [],
   "source": [
    "import pandas as pd\n",
    "\n",
    "msqlfile = open('gqmdb.csv', 'r')\n",
    "notes = pd.read_csv(msqlfile)\n",
    "print(notes.iloc[50][3])\n",
    "print(notes.iloc[50][4])\n",
    "\n",
    "\n",
    "\n"
   ]
  },
  {
   "cell_type": "code",
   "execution_count": null,
   "metadata": {},
   "outputs": [],
   "source": [
    "import pandas as pd\n",
    "\n",
    "msqlfile = open('gqmdb.csv', 'r')\n",
    "notes = pd.read_csv(msqlfile)\n",
    "for index, row in notes.iterrows():\n",
    "    print (row['Title'])\n",
    "    print('===================')\n",
    "    print(row['Text'])\n",
    "    print('--------------------')"
   ]
  },
  {
   "cell_type": "code",
   "execution_count": null,
   "metadata": {},
   "outputs": [],
   "source": [
    "import os\n",
    "import pandas as pd\n",
    "from slugify import slugify\n",
    "\n",
    "\n",
    "def export_notes(filename, savepath):\n",
    "    filext='.txt'\n",
    "    if os.path.exists(savepath) == False :\n",
    "        os.mkdir(savepath)\n",
    "    gq = open(filename, 'r') \n",
    "    reader = pd.read_csv(gq)\n",
    "    for index, row in reader.iterrows():\n",
    "            \n",
    "            \n",
    "            fullfilename = slugify(row['Title'], separator=' ') + filext\n",
    "            # fullfilename = (row['Title']) + filext\n",
    "            newfilename=os.path.join(savepath, fullfilename)\n",
    "            revnote = open(newfilename, 'w')\n",
    "            #revnote.write(row['Text'].replace('\\\\n','\\n'))\n",
    "            revnote.write(row['Text'])\n",
    "            revnote.close    \n",
    "        \n",
    "export_notes('gqmdb.csv' , '/home/rfile/python3/notebooks/pdnotes')        \n",
    "        "
   ]
  },
  {
   "cell_type": "markdown",
   "metadata": {},
   "source": [
    "## sapience java app\n",
    "\n",
    "data:\n",
    "\n",
    "https://docs.google.com/spreadsheet/pub?key=0Anzx0jUraUlldGUwTUFRVXoydl9KU0Y4MUNPSUhqUFE&single=true&gid=0&output=csv\n",
    "\n",
    "thread:\n",
    "\n",
    "https://forums.geocaching.com/REV/index.php?/topic/18401-templates-reviewing-on-multiple-computers/\n",
    "\n",
    "\n",
    "\n"
   ]
  },
  {
   "cell_type": "markdown",
   "metadata": {},
   "source": [
    "from\n",
    "\n",
    "[this article](https://jaxenter.com/implement-switch-case-statement-python-138315.html)\n",
    "\n",
    "\n",
    "## more articles\n",
    "\n",
    "[pandas docs](http://pandas.pydata.org/pandas-docs/version/0.20.2/whatsnew.html)\n",
    "\n",
    "[columns pandas](https://stackoverflow.com/questions/36410287/dropping-some-columns-when-using-to-csv-in-pandas?rq=1)\n",
    "\n",
    "[dataframes pandas](https://www.shanelynn.ie/using-pandas-dataframe-creating-editing-viewing-data-in-python/)\n",
    "\n",
    "[pandas tutorials](https://pandas.pydata.org/pandas-docs/stable/tutorials.html)\n",
    "\n"
   ]
  },
  {
   "cell_type": "code",
   "execution_count": null,
   "metadata": {},
   "outputs": [],
   "source": [
    "def switch_demo(argument):\n",
    "    switcher = {\n",
    "        1: \"January\",\n",
    "        2: \"February\",\n",
    "        3: \"March\",\n",
    "        4: \"April\",\n",
    "        5: \"May\",\n",
    "        6: \"June\",\n",
    "        7: \"July\",\n",
    "        8: \"August\",\n",
    "        9: \"September\",\n",
    "        10: \"October\",\n",
    "        11: \"November\",\n",
    "        12: \"December\"\n",
    "    }\n",
    "    print switcher.get(argument, \"Invalid month\")\n",
    "    \n",
    "def numbers_to_months(argument):\n",
    "    switcher = {\n",
    "        1: one,\n",
    "        2: two,\n",
    "        3: three,\n",
    "        4: four,\n",
    "        5: five,\n",
    "        6: six,\n",
    "        7: seven,\n",
    "        8: eight,\n",
    "        9: nine,\n",
    "        10: ten,\n",
    "        11: eleven,\n",
    "        12: twelve\n",
    "    }\n",
    "    # Get the function from switcher dictionary\n",
    "    func = switcher.get(argument, lambda: \"Invalid month\")\n",
    "    # Execute the function\n",
    "    print func()    "
   ]
  },
  {
   "cell_type": "code",
   "execution_count": null,
   "metadata": {},
   "outputs": [],
   "source": [
    "def switch_demo(argument):\n",
    "    switcher = {\n",
    "        0: \"Main\",\n",
    "        1: \"Menu 1\",\n",
    "        2: \"Menu 2\",\n",
    "        3: \"Menu 3\",\n",
    "        4: \"Menu 4\",\n",
    "        5: \"Menu 5\",\n",
    "        6: \"Menu 6\",\n",
    "        7: \"Menu 7\",\n",
    "        8: \"Menu 8\",\n",
    "        9: \"Menu 9\",\n",
    "        10: \"Menu 10\",\n",
    "        11: \"Menu 11\",\n",
    "        12: \"Menu 12\",\n",
    "        13: \"Menu 13\",\n",
    "        14: \"Menu 14\",\n",
    "        15: \"Menu 15\"\n",
    "    }"
   ]
  },
  {
   "cell_type": "code",
   "execution_count": 1,
   "metadata": {},
   "outputs": [],
   "source": [
    "import pandas as pd\n",
    "menud = pd.DataFrame(\n",
    "                    {\n",
    "       \"Menu_Number\" : [ 1, 2, 3, 4, 5, 6, 7, 8, 9, 10, 11, 12, 13, 14, 15],\n",
    "       \"menu_name\" : ['Menu 1', 'Menu 2', 'Menu 3', 'Menu 4', 'Menu 5', 'Menu 6', 'Menu 7', 'Menu 8', 'Menu 9', 'Menu 10', 'Menu 11', 'Menu 12', 'Menu 13', 'Menu 14', 'Menu 15']\n",
    "                    }  )\n",
    "msqlfile = open('gqmdb.csv', 'r')\n",
    "notes = pd.read_csv(msqlfile)\n",
    " \n",
    "mnotes = pd.merge(notes, \n",
    "\n"
   ]
  },
  {
   "cell_type": "code",
   "execution_count": 4,
   "metadata": {},
   "outputs": [
    {
     "data": {
      "text/plain": [
       "828"
      ]
     },
     "execution_count": 4,
     "metadata": {},
     "output_type": "execute_result"
    }
   ],
   "source": [
    "mnotes.size"
   ]
  },
  {
   "cell_type": "code",
   "execution_count": null,
   "metadata": {},
   "outputs": [],
   "source": [
    "mnotes['category'] = mnotes['menu_name'] + \"/\" + mnotes['Title']"
   ]
  },
  {
   "cell_type": "code",
   "execution_count": null,
   "metadata": {},
   "outputs": [],
   "source": [
    "mnotes.to_csv('gq2col.csv', columns=('category','Text'), index=False)"
   ]
  },
  {
   "cell_type": "code",
   "execution_count": null,
   "metadata": {},
   "outputs": [],
   "source": []
  }
 ],
 "metadata": {
  "kernelspec": {
   "display_name": "Python 3",
   "language": "python",
   "name": "python3"
  },
  "language_info": {
   "codemirror_mode": {
    "name": "ipython",
    "version": 3
   },
   "file_extension": ".py",
   "mimetype": "text/x-python",
   "name": "python",
   "nbconvert_exporter": "python",
   "pygments_lexer": "ipython3",
   "version": "3.6.3"
  }
 },
 "nbformat": 4,
 "nbformat_minor": 2
}
