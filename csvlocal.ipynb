{
 "cells": [
  {
   "cell_type": "markdown",
   "metadata": {},
   "source": [
    "# Notebook 2 - geoquick parsing"
   ]
  },
  {
   "cell_type": "code",
   "execution_count": null,
   "metadata": {},
   "outputs": [],
   "source": [
    "import os\n",
    "def wdir(pathname,filename):\n",
    "    if os.path.exists(pathname) == False :\n",
    "        os.mkdir(pathname)\n",
    "    fullname = os.path.join(pathname, filename )   \n",
    "    print(fullname)\n",
    "wdir('/home/rfile/blah', 'test.txt')"
   ]
  },
  {
   "cell_type": "code",
   "execution_count": null,
   "metadata": {},
   "outputs": [],
   "source": [
    "import csv\n",
    "with open('gqwksql.csv', newline = '') as csvfile:\n",
    "    reader = csv.DictReader(csvfile, delimiter='\"')\n",
    "    for row in reader:\n",
    "        if row['Title'] is None :\n",
    "            row['Title'] = 'title text'\n",
    "        if row['Text'] is None :\n",
    "           row['Text'] = 'no text'\n",
    "        \n",
    "        print(row['Title'], \"\\n---------------------------------\\n\" , row['Text'], '\\n==================================\\n')"
   ]
  },
  {
   "cell_type": "code",
   "execution_count": null,
   "metadata": {},
   "outputs": [],
   "source": [
    "import csv\n",
    "with open('gq.vsv') as csvfile:\n",
    "    reader = csv.DictReader(csvfile, delimiter='')\n",
    "    dialect=csv.unix_dialect\n",
    "    for row in reader:\n",
    "        print(row)"
   ]
  },
  {
   "cell_type": "code",
   "execution_count": null,
   "metadata": {},
   "outputs": [],
   "source": [
    "import csv\n",
    "titles = []\n",
    "textx = []\n",
    "with open(\"gqwksql.csv\", newline='', delimiter='\"') as csvDataFile:\n",
    "        csvReader = csv.reader(csvDataFile)\n",
    "        for row in csvReader:\n",
    "            titles.append(row[3])\n",
    "            textx.append(row[4])\n",
    "print(titles[4], textx[4])            \n",
    " \n"
   ]
  },
  {
   "cell_type": "code",
   "execution_count": null,
   "metadata": {},
   "outputs": [],
   "source": [
    "import os\n",
    "import csv\n",
    "from slugify import slugify\n",
    "\n",
    "\n",
    "def export_notes(filename, savepath):\n",
    "    filext='.txt'\n",
    "    if os.path.exists(savepath) == False :\n",
    "        os.mkdir(savepath)\n",
    "    with open(filename, newline = '') as csvfile:\n",
    "        reader = csv.DictReader(csvfile, delimiter='\"')\n",
    "        for row in reader:\n",
    "            if row['Title'] is None :\n",
    "                row['Title'] = 'title text'\n",
    "            if row['Text'] is None :\n",
    "               row['Text'] = 'no text'\n",
    "            fullfilename = slugify(row['Title'], separator=' ') + filext\n",
    "            newfilename=os.path.join(savepath, fullfilename)\n",
    "            revnote = open(newfilename, 'w')\n",
    "            revnote.write(row['Text'].replace('\\\\n','\\n'))\n",
    "            revnote.close\n",
    "        \n",
    "export_notes('gqmdb.csv' , '/home/rfile/python3/notebooks/mnotes')        \n",
    "        "
   ]
  },
  {
   "cell_type": "markdown",
   "metadata": {},
   "source": [
    "gmdb2 did not seem to do the trick on export. \n",
    "\n",
    "Had to do a double import export\n",
    "\n",
    "ended up exporting sql and then importing into sqlite db and exporting again\n",
    "\n",
    "note the delimiter line for the DictReader as the export from sqlite was single quote double quote\n",
    "\n",
    "```\n",
    "mdb-export -I sqlite GeoQuick.dat GeoQuick_Tb > geoquick.sql\n",
    "```\n",
    "going to get rid of most of the spurious data before I commit...\n",
    "\n",
    "3-10-18\n",
    "\n",
    "rfile at home\n",
    "\n"
   ]
  },
  {
   "cell_type": "code",
   "execution_count": null,
   "metadata": {},
   "outputs": [],
   "source": [
    "import pandas\n"
   ]
  },
  {
   "cell_type": "code",
   "execution_count": null,
   "metadata": {},
   "outputs": [],
   "source": [
    "import pandas as pd\n",
    "import sqlalchemy\n",
    "msqlfile = open('geoquick.sql', 'r')\n",
    "pd.read_sql_query(msqlfile, )"
   ]
  },
  {
   "cell_type": "markdown",
   "metadata": {},
   "source": [
    "```\n",
    "mdb-export GeoQuick.dat GeoQuick_Tb > gqmdb.csv\n",
    "\n",
    "```"
   ]
  },
  {
   "cell_type": "code",
   "execution_count": null,
   "metadata": {},
   "outputs": [],
   "source": [
    "import pandas as pd\n",
    "\n",
    "msqlfile = open('gqmdb.csv', 'r')\n",
    "notes = pd.read_csv(msqlfile)\n",
    "print(notes['Title'][7])\n",
    "print(notes['Text'][7])\n",
    "\n",
    "    \n",
    "    \n"
   ]
  },
  {
   "cell_type": "code",
   "execution_count": null,
   "metadata": {},
   "outputs": [],
   "source": [
    "import pandas as pd\n",
    "\n",
    "msqlfile = open('gqmdb.csv', 'r')\n",
    "notes = pd.read_csv(msqlfile)\n",
    "print(notes['Title'][7])\n",
    "print(notes['Text'][7])\n"
   ]
  },
  {
   "cell_type": "code",
   "execution_count": null,
   "metadata": {},
   "outputs": [],
   "source": [
    "import pandas as pd\n",
    "\n",
    "msqlfile = open('gqmdb.csv', 'r')\n",
    "notes = pd.read_csv(msqlfile)\n",
    "print(notes.iloc[50][3])\n",
    "print(notes.iloc[50][4])\n",
    "\n",
    "\n",
    "\n"
   ]
  },
  {
   "cell_type": "code",
   "execution_count": null,
   "metadata": {},
   "outputs": [],
   "source": [
    "import pandas as pd\n",
    "\n",
    "msqlfile = open('gqmdb.csv', 'r')\n",
    "notes = pd.read_csv(msqlfile)\n",
    "for index, row in notes.iterrows():\n",
    "    print (row['Title'])\n",
    "    print('===================')\n",
    "    print(row['Text'])\n",
    "    print('--------------------')"
   ]
  },
  {
   "cell_type": "code",
   "execution_count": 58,
   "metadata": {},
   "outputs": [],
   "source": [
    "import os\n",
    "import pandas as pd\n",
    "from slugify import slugify\n",
    "\n",
    "\n",
    "def export_notes(filename, savepath):\n",
    "    filext='.txt'\n",
    "    if os.path.exists(savepath) == False :\n",
    "        os.mkdir(savepath)\n",
    "    gq = open(filename, 'r') \n",
    "    reader = pd.read_csv(gq)\n",
    "    for index, row in reader.iterrows():\n",
    "            \n",
    "            \n",
    "            fullfilename = slugify(row['Title'], separator=' ') + filext\n",
    "            # fullfilename = (row['Title']) + filext\n",
    "            newfilename=os.path.join(savepath, fullfilename)\n",
    "            revnote = open(newfilename, 'w')\n",
    "            #revnote.write(row['Text'].replace('\\\\n','\\n'))\n",
    "            revnote.write(row['Text'])\n",
    "            revnote.close    \n",
    "        \n",
    "export_notes('gqmdb.csv' , '/home/rfile/python3/notebooks/pdnotes')        \n",
    "        "
   ]
  },
  {
   "cell_type": "code",
   "execution_count": null,
   "metadata": {},
   "outputs": [],
   "source": []
  }
 ],
 "metadata": {
  "kernelspec": {
   "display_name": "Python 3",
   "language": "python",
   "name": "python3"
  },
  "language_info": {
   "codemirror_mode": {
    "name": "ipython",
    "version": 3
   },
   "file_extension": ".py",
   "mimetype": "text/x-python",
   "name": "python",
   "nbconvert_exporter": "python",
   "pygments_lexer": "ipython3",
   "version": "3.6.3"
  }
 },
 "nbformat": 4,
 "nbformat_minor": 2
}
